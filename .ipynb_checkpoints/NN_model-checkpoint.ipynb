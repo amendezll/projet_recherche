{
 "cells": [
  {
   "cell_type": "code",
   "execution_count": 1,
   "metadata": {
    "colab": {
     "base_uri": "https://localhost:8080/"
    },
    "executionInfo": {
     "elapsed": 1564,
     "status": "ok",
     "timestamp": 1649532587932,
     "user": {
      "displayName": "Angie Méndez Llanos",
      "userId": "05546072616596253065"
     },
     "user_tz": -120
    },
    "id": "QMLdyZsQPdX1",
    "outputId": "d551652b-a6d1-471a-b10a-152e0f016dc5"
   },
   "outputs": [
    {
     "name": "stdout",
     "output_type": "stream",
     "text": [
      "Drive already mounted at /content/drive; to attempt to forcibly remount, call drive.mount(\"/content/drive\", force_remount=True).\n"
     ]
    }
   ],
   "source": [
    "# These lines are used to run the code on Google Colab. \n",
    "# I used it because it's better to run big NN models there, but this one is rather small, so we can run it locally.\n",
    "# from google.colab import drive\n",
    "# drive.mount('/content/drive')\n",
    "\n",
    "# import os\n",
    "# path = '/content/drive/MyDrive/ENSIIE/M1/S4/PRR-Projet-Recherche/projet_recherche'\n",
    "# os.chdir(path)"
   ]
  },
  {
   "cell_type": "code",
   "execution_count": 1,
   "metadata": {
    "executionInfo": {
     "elapsed": 6180,
     "status": "ok",
     "timestamp": 1649532594103,
     "user": {
      "displayName": "Angie Méndez Llanos",
      "userId": "05546072616596253065"
     },
     "user_tz": -120
    },
    "id": "GnSVSA4yPlGI"
   },
   "outputs": [],
   "source": [
    "import pandas as pd\n",
    "import numpy as np\n",
    "from functions import MAPE, MSE, MAE\n",
    "\n",
    "from tensorflow import keras\n",
    "import tensorflow as tf\n",
    "from tensorflow.keras.utils import plot_model\n",
    "from sklearn.model_selection import train_test_split"
   ]
  },
  {
   "cell_type": "code",
   "execution_count": 36,
   "metadata": {
    "executionInfo": {
     "elapsed": 33,
     "status": "ok",
     "timestamp": 1649532594106,
     "user": {
      "displayName": "Angie Méndez Llanos",
      "userId": "05546072616596253065"
     },
     "user_tz": -120
    },
    "id": "13LloR7MPp8y"
   },
   "outputs": [],
   "source": [
    "df = pd.read_csv(\"data/param1.csv\")"
   ]
  },
  {
   "cell_type": "code",
   "execution_count": 37,
   "metadata": {
    "colab": {
     "base_uri": "https://localhost:8080/",
     "height": 206
    },
    "executionInfo": {
     "elapsed": 33,
     "status": "ok",
     "timestamp": 1649532594108,
     "user": {
      "displayName": "Angie Méndez Llanos",
      "userId": "05546072616596253065"
     },
     "user_tz": -120
    },
    "id": "QfFxdvEXmFJz",
    "outputId": "865100ab-fd9b-4400-fbad-97e2b1a80635"
   },
   "outputs": [
    {
     "data": {
      "text/html": [
       "<div>\n",
       "<style scoped>\n",
       "    .dataframe tbody tr th:only-of-type {\n",
       "        vertical-align: middle;\n",
       "    }\n",
       "\n",
       "    .dataframe tbody tr th {\n",
       "        vertical-align: top;\n",
       "    }\n",
       "\n",
       "    .dataframe thead th {\n",
       "        text-align: right;\n",
       "    }\n",
       "</style>\n",
       "<table border=\"1\" class=\"dataframe\">\n",
       "  <thead>\n",
       "    <tr style=\"text-align: right;\">\n",
       "      <th></th>\n",
       "      <th>m</th>\n",
       "      <th>T</th>\n",
       "      <th>r</th>\n",
       "      <th>rho</th>\n",
       "      <th>kappa</th>\n",
       "      <th>gamma</th>\n",
       "      <th>nu</th>\n",
       "      <th>nu0</th>\n",
       "      <th>K</th>\n",
       "      <th>S</th>\n",
       "      <th>price</th>\n",
       "      <th>impl_vol</th>\n",
       "    </tr>\n",
       "  </thead>\n",
       "  <tbody>\n",
       "    <tr>\n",
       "      <th>0</th>\n",
       "      <td>1.257914</td>\n",
       "      <td>1.260829</td>\n",
       "      <td>0.046215</td>\n",
       "      <td>-0.307509</td>\n",
       "      <td>0.349958</td>\n",
       "      <td>0.469729</td>\n",
       "      <td>0.183863</td>\n",
       "      <td>0.079676</td>\n",
       "      <td>79.496682</td>\n",
       "      <td>100</td>\n",
       "      <td>28.830581</td>\n",
       "      <td>0.324574</td>\n",
       "    </tr>\n",
       "    <tr>\n",
       "      <th>1</th>\n",
       "      <td>0.834284</td>\n",
       "      <td>2.351793</td>\n",
       "      <td>0.034071</td>\n",
       "      <td>-0.562245</td>\n",
       "      <td>0.151497</td>\n",
       "      <td>0.702222</td>\n",
       "      <td>0.393769</td>\n",
       "      <td>0.081721</td>\n",
       "      <td>119.863229</td>\n",
       "      <td>100</td>\n",
       "      <td>11.736001</td>\n",
       "      <td>0.258141</td>\n",
       "    </tr>\n",
       "    <tr>\n",
       "      <th>2</th>\n",
       "      <td>1.170108</td>\n",
       "      <td>1.718260</td>\n",
       "      <td>0.019274</td>\n",
       "      <td>-0.600835</td>\n",
       "      <td>1.561061</td>\n",
       "      <td>0.438521</td>\n",
       "      <td>0.086567</td>\n",
       "      <td>0.192130</td>\n",
       "      <td>85.462163</td>\n",
       "      <td>100</td>\n",
       "      <td>26.591338</td>\n",
       "      <td>0.349612</td>\n",
       "    </tr>\n",
       "    <tr>\n",
       "      <th>3</th>\n",
       "      <td>0.720118</td>\n",
       "      <td>2.593797</td>\n",
       "      <td>0.018329</td>\n",
       "      <td>-0.553416</td>\n",
       "      <td>0.278247</td>\n",
       "      <td>0.465255</td>\n",
       "      <td>0.109990</td>\n",
       "      <td>0.317225</td>\n",
       "      <td>138.866101</td>\n",
       "      <td>100</td>\n",
       "      <td>16.740601</td>\n",
       "      <td>0.415047</td>\n",
       "    </tr>\n",
       "    <tr>\n",
       "      <th>4</th>\n",
       "      <td>0.909831</td>\n",
       "      <td>0.260397</td>\n",
       "      <td>0.030840</td>\n",
       "      <td>-0.127374</td>\n",
       "      <td>2.050839</td>\n",
       "      <td>0.365112</td>\n",
       "      <td>0.171817</td>\n",
       "      <td>0.244485</td>\n",
       "      <td>109.910492</td>\n",
       "      <td>100</td>\n",
       "      <td>6.163456</td>\n",
       "      <td>0.473289</td>\n",
       "    </tr>\n",
       "  </tbody>\n",
       "</table>\n",
       "</div>"
      ],
      "text/plain": [
       "          m         T         r       rho     kappa     gamma        nu  \\\n",
       "0  1.257914  1.260829  0.046215 -0.307509  0.349958  0.469729  0.183863   \n",
       "1  0.834284  2.351793  0.034071 -0.562245  0.151497  0.702222  0.393769   \n",
       "2  1.170108  1.718260  0.019274 -0.600835  1.561061  0.438521  0.086567   \n",
       "3  0.720118  2.593797  0.018329 -0.553416  0.278247  0.465255  0.109990   \n",
       "4  0.909831  0.260397  0.030840 -0.127374  2.050839  0.365112  0.171817   \n",
       "\n",
       "        nu0           K    S      price  impl_vol  \n",
       "0  0.079676   79.496682  100  28.830581  0.324574  \n",
       "1  0.081721  119.863229  100  11.736001  0.258141  \n",
       "2  0.192130   85.462163  100  26.591338  0.349612  \n",
       "3  0.317225  138.866101  100  16.740601  0.415047  \n",
       "4  0.244485  109.910492  100   6.163456  0.473289  "
      ]
     },
     "execution_count": 37,
     "metadata": {},
     "output_type": "execute_result"
    }
   ],
   "source": [
    "df.head()"
   ]
  },
  {
   "cell_type": "code",
   "execution_count": 4,
   "metadata": {
    "colab": {
     "base_uri": "https://localhost:8080/"
    },
    "executionInfo": {
     "elapsed": 28,
     "status": "ok",
     "timestamp": 1649532594109,
     "user": {
      "displayName": "Angie Méndez Llanos",
      "userId": "05546072616596253065"
     },
     "user_tz": -120
    },
    "id": "urTgykkumqAw",
    "outputId": "6a66f58e-5421-4f49-e96d-66da953a5fad"
   },
   "outputs": [
    {
     "data": {
      "text/plain": [
       "Index(['m', 'T', 'r', 'rho', 'kappa', 'gamma', 'nu', 'nu0'], dtype='object')"
      ]
     },
     "execution_count": 4,
     "metadata": {},
     "output_type": "execute_result"
    }
   ],
   "source": [
    "df.columns"
   ]
  },
  {
   "cell_type": "markdown",
   "metadata": {},
   "source": [
    "## Model predicting the price"
   ]
  },
  {
   "cell_type": "markdown",
   "metadata": {},
   "source": [
    "This first model predicts the price given the parameters of the Heston models. There are still a few things to check, but as a first approach it's looking good.  "
   ]
  },
  {
   "cell_type": "code",
   "execution_count": 38,
   "metadata": {
    "colab": {
     "base_uri": "https://localhost:8080/"
    },
    "executionInfo": {
     "elapsed": 24,
     "status": "ok",
     "timestamp": 1649532594110,
     "user": {
      "displayName": "Angie Méndez Llanos",
      "userId": "05546072616596253065"
     },
     "user_tz": -120
    },
    "id": "gToJip2sPxNK",
    "outputId": "42fb4df9-2037-4162-8817-0944cd6c0c0f"
   },
   "outputs": [],
   "source": [
    "X = df.drop(['price', 'K', 'S', 'impl_vol'], 1)\n",
    "# X_stand =(X-X.mean())/X.std()\n",
    "y = df['price']\n",
    "# y_norm = (y-y.mean())/y.std()"
   ]
  },
  {
   "cell_type": "code",
   "execution_count": 22,
   "metadata": {
    "colab": {
     "base_uri": "https://localhost:8080/"
    },
    "executionInfo": {
     "elapsed": 24,
     "status": "ok",
     "timestamp": 1649532594112,
     "user": {
      "displayName": "Angie Méndez Llanos",
      "userId": "05546072616596253065"
     },
     "user_tz": -120
    },
    "id": "soEcEFcbkiCz",
    "outputId": "980f3f66-ae36-406c-e790-16bebd8ca3d0"
   },
   "outputs": [
    {
     "data": {
      "text/plain": [
       "(44, 8)"
      ]
     },
     "execution_count": 22,
     "metadata": {},
     "output_type": "execute_result"
    }
   ],
   "source": [
    "X.shape"
   ]
  },
  {
   "cell_type": "code",
   "execution_count": 23,
   "metadata": {
    "executionInfo": {
     "elapsed": 24,
     "status": "ok",
     "timestamp": 1649532594115,
     "user": {
      "displayName": "Angie Méndez Llanos",
      "userId": "05546072616596253065"
     },
     "user_tz": -120
    },
    "id": "4RSCoDYKP4kB"
   },
   "outputs": [],
   "source": [
    "# The dataset should be split into 10-validation, 10-testing, 80-training \n",
    "X_train,X_test,y_train,y_test=train_test_split(X,y,test_size=0.2,random_state=1)"
   ]
  },
  {
   "cell_type": "code",
   "execution_count": 10,
   "metadata": {
    "executionInfo": {
     "elapsed": 24,
     "status": "ok",
     "timestamp": 1649532594115,
     "user": {
      "displayName": "Angie Méndez Llanos",
      "userId": "05546072616596253065"
     },
     "user_tz": -120
    },
    "id": "Hn37vwgfsQTT"
   },
   "outputs": [],
   "source": [
    "train_ratio = 0.8\n",
    "validation_ratio = 0.1\n",
    "test_ratio = 0.1\n",
    "\n",
    "# train is now 80% of the entire data set\n",
    "# the _junk suffix means that we drop that variable completely\n",
    "x_train, x_test, y_train, y_test = train_test_split(X, y, test_size=1 - train_ratio, random_state=1)\n",
    "\n",
    "# test is now 10% of the initial data set\n",
    "# validation is now 10% of the initial data set\n",
    "x_val, x_test, y_val, y_test = train_test_split(x_test, y_test, test_size=test_ratio/(test_ratio + validation_ratio), random_state=1)"
   ]
  },
  {
   "cell_type": "code",
   "execution_count": 24,
   "metadata": {
    "colab": {
     "base_uri": "https://localhost:8080/"
    },
    "executionInfo": {
     "elapsed": 375,
     "status": "ok",
     "timestamp": 1649532594467,
     "user": {
      "displayName": "Angie Méndez Llanos",
      "userId": "05546072616596253065"
     },
     "user_tz": -120
    },
    "id": "uzK72xmeQOkq",
    "outputId": "16778e1d-b99e-40dc-d032-d22dabb45ab0"
   },
   "outputs": [
    {
     "name": "stdout",
     "output_type": "stream",
     "text": [
      "Model: \"sequential_1\"\n",
      "_________________________________________________________________\n",
      "Layer (type)                 Output Shape              Param #   \n",
      "=================================================================\n",
      "dense_5 (Dense)              (None, 200)               1800      \n",
      "_________________________________________________________________\n",
      "dense_6 (Dense)              (None, 200)               40200     \n",
      "_________________________________________________________________\n",
      "dense_7 (Dense)              (None, 200)               40200     \n",
      "_________________________________________________________________\n",
      "dense_8 (Dense)              (None, 200)               40200     \n",
      "_________________________________________________________________\n",
      "dense_9 (Dense)              (None, 1)                 201       \n",
      "=================================================================\n",
      "Total params: 122,601\n",
      "Trainable params: 122,601\n",
      "Non-trainable params: 0\n",
      "_________________________________________________________________\n"
     ]
    }
   ],
   "source": [
    "# epochs is the number of iterations over the data\n",
    "# verbose is a parameter to obtain additional information \n",
    "# Note: define the batch size to \n",
    "initializer = tf.keras.initializers.GlorotUniform()\n",
    "model1 = tf.keras.Sequential([\n",
    "    keras.layers.Dense(units=200,input_shape=(8,),  kernel_initializer=initializer, activation='relu'),\n",
    "    keras.layers.Dense(units=200,activation='relu'),\n",
    "    keras.layers.Dense(units=200,activation='relu'),\n",
    "    keras.layers.Dense(units=200,activation='relu'),\n",
    "    keras.layers.Dense(units=1),\n",
    "    ])\n",
    "model1.compile(optimizer='adam', loss='mean_squared_error')\n",
    "model1.summary()"
   ]
  },
  {
   "cell_type": "code",
   "execution_count": 26,
   "metadata": {
    "colab": {
     "base_uri": "https://localhost:8080/"
    },
    "executionInfo": {
     "elapsed": 455729,
     "status": "ok",
     "timestamp": 1649533050190,
     "user": {
      "displayName": "Angie Méndez Llanos",
      "userId": "05546072616596253065"
     },
     "user_tz": -120
    },
    "id": "tSBbxshKQRox",
    "outputId": "d33e3747-4d4f-497e-8cdd-baa1bd0976ae"
   },
   "outputs": [],
   "source": [
    "# The epochs shouls be 8000, but we'll start with something lighter to test\n",
    "history= model1.fit(X_train, y_train, epochs=8000, batch_size= 1024, verbose=0)"
   ]
  },
  {
   "cell_type": "code",
   "execution_count": 27,
   "metadata": {
    "executionInfo": {
     "elapsed": 176,
     "status": "ok",
     "timestamp": 1649533050190,
     "user": {
      "displayName": "Angie Méndez Llanos",
      "userId": "05546072616596253065"
     },
     "user_tz": -120
    },
    "id": "OwmzM_zGQYfa"
   },
   "outputs": [],
   "source": [
    "# y_pred = model.predict(x_test)\n",
    "y_pred = model1.predict(X_test)"
   ]
  },
  {
   "cell_type": "code",
   "execution_count": 28,
   "metadata": {
    "colab": {
     "base_uri": "https://localhost:8080/"
    },
    "executionInfo": {
     "elapsed": 156,
     "status": "ok",
     "timestamp": 1649533050191,
     "user": {
      "displayName": "Angie Méndez Llanos",
      "userId": "05546072616596253065"
     },
     "user_tz": -120
    },
    "id": "kql64ksvoXbY",
    "outputId": "f08ab523-2bbe-40c0-a700-8d564bbca0f8"
   },
   "outputs": [
    {
     "data": {
      "text/plain": [
       "3     16.740601\n",
       "2     26.591338\n",
       "30    13.044868\n",
       "21    30.369697\n",
       "22     7.946941\n",
       "41    15.072212\n",
       "19    24.001303\n",
       "35     0.327558\n",
       "34     0.930086\n",
       "Name: price, dtype: float64"
      ]
     },
     "execution_count": 28,
     "metadata": {},
     "output_type": "execute_result"
    }
   ],
   "source": [
    "y_test"
   ]
  },
  {
   "cell_type": "code",
   "execution_count": 29,
   "metadata": {
    "colab": {
     "base_uri": "https://localhost:8080/"
    },
    "executionInfo": {
     "elapsed": 24,
     "status": "ok",
     "timestamp": 1649533050192,
     "user": {
      "displayName": "Angie Méndez Llanos",
      "userId": "05546072616596253065"
     },
     "user_tz": -120
    },
    "id": "yjOhLVuVt0La",
    "outputId": "73db33b8-1953-4405-9ff7-78824e234c2d"
   },
   "outputs": [
    {
     "data": {
      "text/plain": [
       "array([[19.414085  ],\n",
       "       [23.413738  ],\n",
       "       [14.200456  ],\n",
       "       [30.354979  ],\n",
       "       [ 5.9051895 ],\n",
       "       [16.438808  ],\n",
       "       [18.898617  ],\n",
       "       [ 0.25640422],\n",
       "       [ 3.1630292 ]], dtype=float32)"
      ]
     },
     "execution_count": 29,
     "metadata": {},
     "output_type": "execute_result"
    }
   ],
   "source": [
    "y_pred"
   ]
  },
  {
   "cell_type": "code",
   "execution_count": 31,
   "metadata": {
    "colab": {
     "base_uri": "https://localhost:8080/"
    },
    "executionInfo": {
     "elapsed": 21,
     "status": "ok",
     "timestamp": 1649533050194,
     "user": {
      "displayName": "Angie Méndez Llanos",
      "userId": "05546072616596253065"
     },
     "user_tz": -120
    },
    "id": "N-Vc2A5Gw5ae",
    "outputId": "6b07ad40-a12f-4fdb-a353-fae60bf16c6c"
   },
   "outputs": [
    {
     "data": {
      "text/plain": [
       "63.07619"
      ]
     },
     "execution_count": 31,
     "metadata": {},
     "output_type": "execute_result"
    }
   ],
   "source": [
    "MAPE(y_test, y_pred)"
   ]
  },
  {
   "cell_type": "code",
   "execution_count": 32,
   "metadata": {
    "colab": {
     "base_uri": "https://localhost:8080/"
    },
    "executionInfo": {
     "elapsed": 18,
     "status": "ok",
     "timestamp": 1649533050194,
     "user": {
      "displayName": "Angie Méndez Llanos",
      "userId": "05546072616596253065"
     },
     "user_tz": -120
    },
    "id": "ku0plHtRofQD",
    "outputId": "294eaeec-0f34-4964-cdb7-bf872a0db563"
   },
   "outputs": [
    {
     "data": {
      "text/plain": [
       "1705.63463"
      ]
     },
     "execution_count": 32,
     "metadata": {},
     "output_type": "execute_result"
    }
   ],
   "source": [
    "MSE(y_test, y_pred)"
   ]
  },
  {
   "cell_type": "code",
   "execution_count": 33,
   "metadata": {
    "colab": {
     "base_uri": "https://localhost:8080/"
    },
    "executionInfo": {
     "elapsed": 17,
     "status": "ok",
     "timestamp": 1649533050194,
     "user": {
      "displayName": "Angie Méndez Llanos",
      "userId": "05546072616596253065"
     },
     "user_tz": -120
    },
    "id": "WeHZORfrw6CR",
    "outputId": "fa060adb-6485-40bb-f441-15437b963459"
   },
   "outputs": [
    {
     "data": {
      "text/plain": [
       "101.06878"
      ]
     },
     "execution_count": 33,
     "metadata": {},
     "output_type": "execute_result"
    }
   ],
   "source": [
    "MAE(y_test, y_pred)"
   ]
  },
  {
   "cell_type": "markdown",
   "metadata": {},
   "source": [
    "## Model predicting the implied volatility"
   ]
  },
  {
   "cell_type": "code",
   "execution_count": 39,
   "metadata": {
    "colab": {
     "base_uri": "https://localhost:8080/"
    },
    "executionInfo": {
     "elapsed": 24,
     "status": "ok",
     "timestamp": 1649532594110,
     "user": {
      "displayName": "Angie Méndez Llanos",
      "userId": "05546072616596253065"
     },
     "user_tz": -120
    },
    "id": "gToJip2sPxNK",
    "outputId": "42fb4df9-2037-4162-8817-0944cd6c0c0f"
   },
   "outputs": [],
   "source": [
    "X = df.drop(['price', 'K', 'S', 'impl_vol'], 1)\n",
    "# X_stand =(X-X.mean())/X.std()\n",
    "y = df['impl_vol']\n",
    "# y_norm = (y-y.mean())/y.std()"
   ]
  },
  {
   "cell_type": "code",
   "execution_count": 40,
   "metadata": {
    "colab": {
     "base_uri": "https://localhost:8080/"
    },
    "executionInfo": {
     "elapsed": 24,
     "status": "ok",
     "timestamp": 1649532594112,
     "user": {
      "displayName": "Angie Méndez Llanos",
      "userId": "05546072616596253065"
     },
     "user_tz": -120
    },
    "id": "soEcEFcbkiCz",
    "outputId": "980f3f66-ae36-406c-e790-16bebd8ca3d0"
   },
   "outputs": [
    {
     "data": {
      "text/plain": [
       "(44, 8)"
      ]
     },
     "execution_count": 40,
     "metadata": {},
     "output_type": "execute_result"
    }
   ],
   "source": [
    "X.shape"
   ]
  },
  {
   "cell_type": "code",
   "execution_count": 41,
   "metadata": {
    "executionInfo": {
     "elapsed": 24,
     "status": "ok",
     "timestamp": 1649532594115,
     "user": {
      "displayName": "Angie Méndez Llanos",
      "userId": "05546072616596253065"
     },
     "user_tz": -120
    },
    "id": "4RSCoDYKP4kB"
   },
   "outputs": [],
   "source": [
    "# The dataset should be split into 10-validation, 10-testing, 80-training \n",
    "X_train,X_test,y_train,y_test=train_test_split(X,y,test_size=0.2,random_state=1)"
   ]
  },
  {
   "cell_type": "code",
   "execution_count": 10,
   "metadata": {
    "executionInfo": {
     "elapsed": 24,
     "status": "ok",
     "timestamp": 1649532594115,
     "user": {
      "displayName": "Angie Méndez Llanos",
      "userId": "05546072616596253065"
     },
     "user_tz": -120
    },
    "id": "Hn37vwgfsQTT"
   },
   "outputs": [],
   "source": [
    "train_ratio = 0.8\n",
    "validation_ratio = 0.1\n",
    "test_ratio = 0.1\n",
    "\n",
    "# train is now 80% of the entire data set\n",
    "# the _junk suffix means that we drop that variable completely\n",
    "x_train, x_test, y_train, y_test = train_test_split(X, y, test_size=1 - train_ratio, random_state=1)\n",
    "\n",
    "# test is now 10% of the initial data set\n",
    "# validation is now 10% of the initial data set\n",
    "x_val, x_test, y_val, y_test = train_test_split(x_test, y_test, test_size=test_ratio/(test_ratio + validation_ratio), random_state=1)"
   ]
  },
  {
   "cell_type": "code",
   "execution_count": 45,
   "metadata": {
    "colab": {
     "base_uri": "https://localhost:8080/"
    },
    "executionInfo": {
     "elapsed": 375,
     "status": "ok",
     "timestamp": 1649532594467,
     "user": {
      "displayName": "Angie Méndez Llanos",
      "userId": "05546072616596253065"
     },
     "user_tz": -120
    },
    "id": "uzK72xmeQOkq",
    "outputId": "16778e1d-b99e-40dc-d032-d22dabb45ab0"
   },
   "outputs": [
    {
     "name": "stdout",
     "output_type": "stream",
     "text": [
      "Model: \"sequential_4\"\n",
      "_________________________________________________________________\n",
      "Layer (type)                 Output Shape              Param #   \n",
      "=================================================================\n",
      "dense_20 (Dense)             (None, 200)               1800      \n",
      "_________________________________________________________________\n",
      "dense_21 (Dense)             (None, 200)               40200     \n",
      "_________________________________________________________________\n",
      "dense_22 (Dense)             (None, 200)               40200     \n",
      "_________________________________________________________________\n",
      "dense_23 (Dense)             (None, 200)               40200     \n",
      "_________________________________________________________________\n",
      "dense_24 (Dense)             (None, 1)                 201       \n",
      "=================================================================\n",
      "Total params: 122,601\n",
      "Trainable params: 122,601\n",
      "Non-trainable params: 0\n",
      "_________________________________________________________________\n"
     ]
    }
   ],
   "source": [
    "# epochs is the number of iterations over the data\n",
    "# verbose is a parameter to obtain additional information \n",
    "# Note: define the batch size to \n",
    "initializer = tf.keras.initializers.GlorotUniform()\n",
    "model2 = tf.keras.Sequential([\n",
    "    keras.layers.Dense(units=200,input_shape=(8,),  kernel_initializer=initializer, activation='relu'),\n",
    "    keras.layers.Dense(units=200,activation='relu'),\n",
    "    keras.layers.Dense(units=200,activation='relu'),\n",
    "    keras.layers.Dense(units=200,activation='relu'),\n",
    "    keras.layers.Dense(units=1),\n",
    "    ])\n",
    "model2.compile(optimizer='adam', loss='mean_squared_error')\n",
    "model2.summary()"
   ]
  },
  {
   "cell_type": "code",
   "execution_count": 46,
   "metadata": {
    "colab": {
     "base_uri": "https://localhost:8080/"
    },
    "executionInfo": {
     "elapsed": 455729,
     "status": "ok",
     "timestamp": 1649533050190,
     "user": {
      "displayName": "Angie Méndez Llanos",
      "userId": "05546072616596253065"
     },
     "user_tz": -120
    },
    "id": "tSBbxshKQRox",
    "outputId": "d33e3747-4d4f-497e-8cdd-baa1bd0976ae"
   },
   "outputs": [],
   "source": [
    "# The epochs shouls be 8000, but we'll start with something lighter to test\n",
    "history= model2.fit(X_train, y_train, epochs=8000, batch_size= 1024, verbose=0)"
   ]
  },
  {
   "cell_type": "code",
   "execution_count": 47,
   "metadata": {
    "executionInfo": {
     "elapsed": 176,
     "status": "ok",
     "timestamp": 1649533050190,
     "user": {
      "displayName": "Angie Méndez Llanos",
      "userId": "05546072616596253065"
     },
     "user_tz": -120
    },
    "id": "OwmzM_zGQYfa"
   },
   "outputs": [],
   "source": [
    "# y_pred = model.predict(x_test)\n",
    "y_pred = model2.predict(X_test)"
   ]
  },
  {
   "cell_type": "code",
   "execution_count": 48,
   "metadata": {
    "colab": {
     "base_uri": "https://localhost:8080/"
    },
    "executionInfo": {
     "elapsed": 156,
     "status": "ok",
     "timestamp": 1649533050191,
     "user": {
      "displayName": "Angie Méndez Llanos",
      "userId": "05546072616596253065"
     },
     "user_tz": -120
    },
    "id": "kql64ksvoXbY",
    "outputId": "f08ab523-2bbe-40c0-a700-8d564bbca0f8"
   },
   "outputs": [
    {
     "data": {
      "text/plain": [
       "3     0.415047\n",
       "2     0.349612\n",
       "30    0.408136\n",
       "21    0.627606\n",
       "22    0.312476\n",
       "41    0.487659\n",
       "19    0.461360\n",
       "35    0.288328\n",
       "34    0.256209\n",
       "Name: impl_vol, dtype: float64"
      ]
     },
     "execution_count": 48,
     "metadata": {},
     "output_type": "execute_result"
    }
   ],
   "source": [
    "y_test"
   ]
  },
  {
   "cell_type": "code",
   "execution_count": 49,
   "metadata": {
    "colab": {
     "base_uri": "https://localhost:8080/"
    },
    "executionInfo": {
     "elapsed": 24,
     "status": "ok",
     "timestamp": 1649533050192,
     "user": {
      "displayName": "Angie Méndez Llanos",
      "userId": "05546072616596253065"
     },
     "user_tz": -120
    },
    "id": "yjOhLVuVt0La",
    "outputId": "73db33b8-1953-4405-9ff7-78824e234c2d"
   },
   "outputs": [
    {
     "data": {
      "text/plain": [
       "array([[0.43306813],\n",
       "       [0.326813  ],\n",
       "       [0.40381056],\n",
       "       [0.6104918 ],\n",
       "       [0.29560682],\n",
       "       [0.45766893],\n",
       "       [0.42727855],\n",
       "       [0.28337884],\n",
       "       [0.40773168]], dtype=float32)"
      ]
     },
     "execution_count": 49,
     "metadata": {},
     "output_type": "execute_result"
    }
   ],
   "source": [
    "y_pred"
   ]
  },
  {
   "cell_type": "code",
   "execution_count": 50,
   "metadata": {
    "colab": {
     "base_uri": "https://localhost:8080/"
    },
    "executionInfo": {
     "elapsed": 21,
     "status": "ok",
     "timestamp": 1649533050194,
     "user": {
      "displayName": "Angie Méndez Llanos",
      "userId": "05546072616596253065"
     },
     "user_tz": -120
    },
    "id": "N-Vc2A5Gw5ae",
    "outputId": "6b07ad40-a12f-4fdb-a353-fae60bf16c6c"
   },
   "outputs": [
    {
     "data": {
      "text/plain": [
       "2.67846"
      ]
     },
     "execution_count": 50,
     "metadata": {},
     "output_type": "execute_result"
    }
   ],
   "source": [
    "MAPE(y_test, y_pred)"
   ]
  },
  {
   "cell_type": "code",
   "execution_count": 51,
   "metadata": {
    "colab": {
     "base_uri": "https://localhost:8080/"
    },
    "executionInfo": {
     "elapsed": 18,
     "status": "ok",
     "timestamp": 1649533050194,
     "user": {
      "displayName": "Angie Méndez Llanos",
      "userId": "05546072616596253065"
     },
     "user_tz": -120
    },
    "id": "ku0plHtRofQD",
    "outputId": "294eaeec-0f34-4964-cdb7-bf872a0db563"
   },
   "outputs": [
    {
     "data": {
      "text/plain": [
       "0.18623"
      ]
     },
     "execution_count": 51,
     "metadata": {},
     "output_type": "execute_result"
    }
   ],
   "source": [
    "MSE(y_test, y_pred)"
   ]
  },
  {
   "cell_type": "code",
   "execution_count": 52,
   "metadata": {
    "colab": {
     "base_uri": "https://localhost:8080/"
    },
    "executionInfo": {
     "elapsed": 17,
     "status": "ok",
     "timestamp": 1649533050194,
     "user": {
      "displayName": "Angie Méndez Llanos",
      "userId": "05546072616596253065"
     },
     "user_tz": -120
    },
    "id": "WeHZORfrw6CR",
    "outputId": "fa060adb-6485-40bb-f441-15437b963459"
   },
   "outputs": [
    {
     "data": {
      "text/plain": [
       "1.01702"
      ]
     },
     "execution_count": 52,
     "metadata": {},
     "output_type": "execute_result"
    }
   ],
   "source": [
    "MAE(y_test, y_pred)"
   ]
  },
  {
   "cell_type": "code",
   "execution_count": null,
   "metadata": {},
   "outputs": [],
   "source": []
  }
 ],
 "metadata": {
  "colab": {
   "authorship_tag": "ABX9TyOgmFcY5yNICD266i3dd7zD",
   "collapsed_sections": [],
   "mount_file_id": "19_iYietxJ2IRir_bkK_LJbhRpQm8Nx0v",
   "name": "NN_model.ipynb",
   "provenance": []
  },
  "kernelspec": {
   "display_name": "Python 3",
   "language": "python",
   "name": "python3"
  },
  "language_info": {
   "codemirror_mode": {
    "name": "ipython",
    "version": 3
   },
   "file_extension": ".py",
   "mimetype": "text/x-python",
   "name": "python",
   "nbconvert_exporter": "python",
   "pygments_lexer": "ipython3",
   "version": "3.7.7"
  }
 },
 "nbformat": 4,
 "nbformat_minor": 1
}
