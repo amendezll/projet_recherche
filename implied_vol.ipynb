{
 "cells": [
  {
   "cell_type": "markdown",
   "metadata": {},
   "source": [
    "# Heston Price "
   ]
  },
  {
   "cell_type": "code",
   "execution_count": 16,
   "metadata": {},
   "outputs": [],
   "source": [
    "#REQUIREMENTS\n",
    "\n",
    "import numpy as np\n",
    "import scipy.integrate as integrate"
   ]
  },
  {
   "cell_type": "code",
   "execution_count": 17,
   "metadata": {},
   "outputs": [],
   "source": [
    "def Call_Price_Heston(S,K,T,r,kappa,theta,nu,rho,V0,alpha=1,L=1000):\n",
    "    #P= Price of a call with Maturity T and Strike K using the characteristic function of the \n",
    "    #price and the Carr-Madan formula - No FFT used\n",
    "    #S= Initial price\n",
    "    #r= risk free rate\n",
    "    #kappa,theta,nu,rho = parameters Heston\n",
    "    #V0= initial vol in Heston model\n",
    "    #alpha = damping factor (alpha >0) typically take alpha=1\n",
    "    #L = truncation bound for the integral\n",
    "    \n",
    "    i = complex(0,1)\n",
    "    b=lambda x:(kappa-i*rho*nu*x)\n",
    "    gamma=lambda x:(np.sqrt(nu**(2)*(x**2+i*x)+b(x)**2))\n",
    "    a=lambda x:(b(x)/gamma(x))*np.sinh(T*0.5*gamma(x))\n",
    "    c=lambda x:(gamma(x)*np.cosh(0.5*T*gamma(x))/np.sinh(0.5*T*gamma(x))+b(x))\n",
    "    d=lambda x:(kappa*theta*T*b(x)/nu**2)\n",
    "\n",
    "    f=lambda x:(i*(np.log(S)+r*T)*x+d(x))\n",
    "    g=lambda x:(np.cosh(T* 0.5*gamma(x))+a(x))**(2*kappa*theta/nu**2)\n",
    "    h=lambda x:(-(x**2+i*x)*V0/c(x))\n",
    "\n",
    "    phi=lambda x:(np.exp(f(x))*np.exp(h(x))/g(x)) # Characteristic function\n",
    "    integrand=lambda x:(np.real((phi(x-i*(alpha+1))/((alpha+i*x)*(alpha+1+i*x)))*np.exp(-i*np.log(K)*x)))\n",
    "    integral = integrate.quad(integrand,0, L)\n",
    "    P=(np.exp(-r*T-alpha*np.log(K))/np.pi) * integral[0]\n",
    "    return P"
   ]
  },
  {
   "cell_type": "code",
   "execution_count": 5,
   "metadata": {},
   "outputs": [
    {
     "data": {
      "text/plain": [
       "8.836959972067445"
      ]
     },
     "execution_count": 5,
     "metadata": {},
     "output_type": "execute_result"
    }
   ],
   "source": [
    "Call_Price_Heston(100,100,1,0,1,0.08,1,-.5,0.08,alpha=1,L=1000) "
   ]
  },
  {
   "cell_type": "markdown",
   "metadata": {},
   "source": [
    "# Black-Scoles Price"
   ]
  },
  {
   "cell_type": "markdown",
   "metadata": {},
   "source": [
    "$ \\frac{x}{1-x} = \\frac{1}{1-x} - 1$"
   ]
  },
  {
   "cell_type": "code",
   "execution_count": 6,
   "metadata": {},
   "outputs": [],
   "source": [
    "# load packages\n",
    "\n",
    "import numpy as np\n",
    "import matplotlib.pyplot as plt \n",
    "\n"
   ]
  },
  {
   "cell_type": "code",
   "execution_count": 7,
   "metadata": {},
   "outputs": [],
   "source": [
    "# BS model Price calculation\n",
    "\n",
    "def C_BS(sigma, r, S, T, K):\n",
    "    \n",
    "    import numpy as np\n",
    "    from scipy.stats import norm\n",
    "    t = 0\n",
    "    d1 = (1/(sigma*np.sqrt(T-t)))*(np.log(S/K)+(r+(sigma**2)/2)*(T-t))\n",
    "    d2 = d1-sigma*np.sqrt(T-t)\n",
    "    \n",
    "    \n",
    "    return S*norm.cdf(d1) - K*np.exp(-r*(T-t))*norm.cdf(d2)"
   ]
  },
  {
   "cell_type": "code",
   "execution_count": 8,
   "metadata": {},
   "outputs": [
    {
     "data": {
      "text/plain": [
       "7.965567455405804"
      ]
     },
     "execution_count": 8,
     "metadata": {},
     "output_type": "execute_result"
    }
   ],
   "source": [
    "C = C_BS(sigma=0.2, r=0, S=100, T=1, K=100 )\n",
    "C # CALL Price"
   ]
  },
  {
   "cell_type": "code",
   "execution_count": 9,
   "metadata": {},
   "outputs": [],
   "source": [
    "sig = np.linspace(0.01, 10, 100)\n",
    "C_bs = [C_BS(s, 0, 100, 1, 100) for s in sig]"
   ]
  },
  {
   "cell_type": "code",
   "execution_count": 10,
   "metadata": {},
   "outputs": [
    {
     "data": {
      "text/plain": [
       "Text(0, 0.5, 'Black-Scholes Price $C^{BS}$')"
      ]
     },
     "execution_count": 10,
     "metadata": {},
     "output_type": "execute_result"
    },
    {
     "data": {
      "image/png": "[encoded data removed]",
      "text/plain": [
       "<Figure size 432x288 with 1 Axes>"
      ]
     },
     "metadata": {
      "needs_background": "light"
     },
     "output_type": "display_data"
    }
   ],
   "source": [
    "plt.plot(sig, C_bs)\n",
    "plt.xlabel(\"implied volatility $\\sigma$\")\n",
    "plt.ylabel(\"Black-Scholes Price $C^{BS}$\")"
   ]
  },
  {
   "cell_type": "markdown",
   "metadata": {},
   "source": [
    "# price -> volatility calculation"
   ]
  },
  {
   "cell_type": "code",
   "execution_count": 18,
   "metadata": {},
   "outputs": [],
   "source": [
    "# bi-section method searching implied volatility\n",
    "\n",
    "def imp_vol(C, r, S, T, K, N = 20): \n",
    "    # N: iteration number\n",
    "    # K : strike price\n",
    "    # T : maturity, in \"year\"\n",
    "    # t : present instant\n",
    "    # r : active risk-free rate\n",
    "    # S : stock price\n",
    "    \n",
    "    import numpy as np\n",
    "    \n",
    "    n = N+1\n",
    "    x = np.zeros(n)\n",
    "    y = np.ones(n) # index : 0 -> N\n",
    "#     z = np.zeros(n)\n",
    "    \n",
    "    for i in range(1,n): # index : 0 -> N-1\n",
    "#         z[i] = 1/2 * (x[i-1] + y[i-1])\n",
    "#         sig = z[i] / (1 - z[i])\n",
    "#         if (S > S_BS(sig, r, S, t, T, K)):\n",
    "#             x[i] = z[i]\n",
    "#             y[i] = y[i-1]\n",
    "#         else:\n",
    "#             x[i] = x[i-1]\n",
    "#             y[i] = z[i]\n",
    "\n",
    "        z = 1/2 * (x[i-1] + y[i-1])\n",
    "        sig = z/ (1 - z)\n",
    "        if (C > C_BS(sig, r, S, T, K)):\n",
    "            x[i] = z\n",
    "            y[i] = y[i-1]\n",
    "        else:\n",
    "            x[i] = x[i-1]\n",
    "            y[i] = z\n",
    "            \n",
    "    z = (x[N] + y[N]) / 2\n",
    "    sigma = z / (1-z)\n",
    "    \n",
    "    return sigma \n",
    "        "
   ]
  },
  {
   "cell_type": "code",
   "execution_count": 19,
   "metadata": {},
   "outputs": [
    {
     "data": {
      "text/plain": [
       "0.19999977111820771"
      ]
     },
     "execution_count": 19,
     "metadata": {},
     "output_type": "execute_result"
    }
   ],
   "source": [
    "imp_vol(C=C, r=0, S=100, T=1, K=100)\n"
   ]
  },
  {
   "cell_type": "code",
   "execution_count": 20,
   "metadata": {},
   "outputs": [],
   "source": [
    "def vol_vect(K, S,T,r,kappa,theta,nu,rho,V0,alpha=1,L=1000):\n",
    "    import numpy as np\n",
    "    \n",
    "    v = np.zeros(len(K))\n",
    "    i = 0\n",
    "    for k in K :\n",
    "        i\n",
    "        prix_opt = Call_Price_Heston(S,k,T,r,kappa,theta,nu,rho,V0,alpha=1,L=1000) # always the same model, but with K different\n",
    "        vol = imp_vol(prix_opt, r, S, T, k, N = 20)\n",
    "        v[i] = vol\n",
    "        i += 1\n",
    "    return v"
   ]
  },
  {
   "cell_type": "code",
   "execution_count": 21,
   "metadata": {},
   "outputs": [
    {
     "data": {
      "text/plain": [
       "[<matplotlib.lines.Line2D at 0x2e932c92f80>]"
      ]
     },
     "execution_count": 21,
     "metadata": {},
     "output_type": "execute_result"
    },
    {
     "data": {
      "image/png": "[encoded data removed]",
      "text/plain": [
       "<Figure size 432x288 with 1 Axes>"
      ]
     },
     "metadata": {
      "needs_background": "light"
     },
     "output_type": "display_data"
    }
   ],
   "source": [
    "#  vol depend on K\n",
    "\n",
    "K = np.linspace(10, 200, 100)\n",
    "\n",
    "S = 100\n",
    "T = 1\n",
    "r = 0\n",
    "kappa = 1\n",
    "theta = 0.08\n",
    "nu = 1\n",
    "rho = -.5\n",
    "V0 = 0.08\n",
    "\n",
    "vol =  vol_vect(K, S,T,r,kappa,theta,nu,rho,V0,alpha=1,L=1000)\n",
    "\n",
    "plt.plot(K,vol)"
   ]
  },
  {
   "cell_type": "code",
   "execution_count": null,
   "metadata": {},
   "outputs": [],
   "source": []
  },
  {
   "cell_type": "code",
   "execution_count": null,
   "metadata": {},
   "outputs": [],
   "source": []
  },
  {
   "cell_type": "code",
   "execution_count": null,
   "metadata": {},
   "outputs": [],
   "source": []
  }
 ],
 "metadata": {
  "kernelspec": {
   "display_name": "Python 3 (ipykernel)",
   "language": "python",
   "name": "python3"
  },
  "language_info": {
   "codemirror_mode": {
    "name": "ipython",
    "version": 3
   },
   "file_extension": ".py",
   "mimetype": "text/x-python",
   "name": "python",
   "nbconvert_exporter": "python",
   "pygments_lexer": "ipython3",
   "version": "3.10.4"
  },
  "toc": {
   "base_numbering": 1,
   "nav_menu": {},
   "number_sections": true,
   "sideBar": true,
   "skip_h1_title": false,
   "title_cell": "Table of Contents",
   "title_sidebar": "Contents",
   "toc_cell": false,
   "toc_position": {},
   "toc_section_display": true,
   "toc_window_display": false
  }
 },
 "nbformat": 4,
 "nbformat_minor": 2
}
