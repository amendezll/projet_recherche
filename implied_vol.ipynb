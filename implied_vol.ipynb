{
 "cells": [
  {
   "cell_type": "markdown",
   "metadata": {},
   "source": [
    "# Heston Price "
   ]
  },
  {
   "cell_type": "code",
   "execution_count": 1,
   "metadata": {},
   "outputs": [],
   "source": [
    "#REQUIREMENTS\n",
    "\n",
    "import numpy as np\n",
    "import scipy.integrate as integrate"
   ]
  },
  {
   "cell_type": "code",
   "execution_count": 2,
   "metadata": {},
   "outputs": [],
   "source": [
    "def Call_Price_Heston(S,K,T,r,kappa,theta,nu,rho,V0,alpha=1,L=1000):\n",
    "    #P= Price of a call with Maturity T and Strike K using the characteristic function of the \n",
    "    #price and the Carr-Madan formula - No FFT used\n",
    "    #S= Initial price\n",
    "    #r= risk free rate\n",
    "    #kappa,theta,nu,rho = parameters Heston\n",
    "    #V0= initial vol in Heston model\n",
    "    #alpha = damping factor (alpha >0) typically take alpha=1\n",
    "    #L = truncation bound for the integral\n",
    "    \n",
    "    i = complex(0,1)\n",
    "    b=lambda x:(kappa-i*rho*nu*x)\n",
    "    gamma=lambda x:(np.sqrt(nu**(2)*(x**2+i*x)+b(x)**2))\n",
    "    a=lambda x:(b(x)/gamma(x))*np.sinh(T*0.5*gamma(x))\n",
    "    c=lambda x:(gamma(x)*np.cosh(0.5*T*gamma(x))/np.sinh(0.5*T*gamma(x))+b(x))\n",
    "    d=lambda x:(kappa*theta*T*b(x)/nu**2)\n",
    "\n",
    "    f=lambda x:(i*(np.log(S)+r*T)*x+d(x))\n",
    "    g=lambda x:(np.cosh(T* 0.5*gamma(x))+a(x))**(2*kappa*theta/nu**2)\n",
    "    h=lambda x:(-(x**2+i*x)*V0/c(x))\n",
    "\n",
    "    phi=lambda x:(np.exp(f(x))*np.exp(h(x))/g(x)) # Characteristic function\n",
    "    integrand=lambda x:(np.real((phi(x-i*(alpha+1))/((alpha+i*x)*(alpha+1+i*x)))*np.exp(-i*np.log(K)*x)))\n",
    "    integral = integrate.quad(integrand,0, L)\n",
    "    P=(np.exp(-r*T-alpha*np.log(K))/np.pi) * integral[0]\n",
    "    return P"
   ]
  },
  {
   "cell_type": "code",
   "execution_count": 3,
   "metadata": {},
   "outputs": [
    {
     "data": {
      "text/plain": [
       "8.836959972067445"
      ]
     },
     "execution_count": 3,
     "metadata": {},
     "output_type": "execute_result"
    }
   ],
   "source": [
    "Call_Price_Heston(100,100,1,0,1,0.08,1,-.5,0.08,alpha=1,L=1000) "
   ]
  },
  {
   "cell_type": "markdown",
   "metadata": {},
   "source": [
    "# Black-Scoles Price"
   ]
  },
  {
   "cell_type": "markdown",
   "metadata": {},
   "source": [
    "$ \\frac{x}{1-x} = \\frac{1}{1-x} - 1$"
   ]
  },
  {
   "cell_type": "code",
   "execution_count": 4,
   "metadata": {},
   "outputs": [],
   "source": [
    "# load packages\n",
    "\n",
    "import numpy as np\n",
    "import matplotlib.pyplot as plt \n",
    "\n"
   ]
  },
  {
   "cell_type": "code",
   "execution_count": 1,
   "metadata": {},
   "outputs": [],
   "source": [
    "# BS model Price calculation\n",
    "\n",
    "def C_BS(sigma, r, S, T, K):\n",
    "    \n",
    "    import numpy as np\n",
    "    from scipy.stats import norm\n",
    "    \n",
    "    t = 0\n",
    "    d1 = (1/(sigma*np.sqrt(T-t)))*(np.log(S/K)+(r+(sigma**2)/2)*(T-t))\n",
    "    d2 = d1-sigma*np.sqrt(T-t)\n",
    "    \n",
    "    \n",
    "    return S*norm.cdf(d1) - K*np.exp(-r*(T-t))*norm.cdf(d2)"
   ]
  },
  {
   "cell_type": "code",
   "execution_count": 6,
   "metadata": {},
   "outputs": [
    {
     "data": {
      "text/plain": [
       "7.965567455405804"
      ]
     },
     "execution_count": 6,
     "metadata": {},
     "output_type": "execute_result"
    }
   ],
   "source": [
    "C = C_BS(sigma=0.2, r=0, S=100, T=1, K=100 )\n",
    "C # CALL Price"
   ]
  },
  {
   "cell_type": "code",
   "execution_count": 7,
   "metadata": {},
   "outputs": [],
   "source": [
    "sig = np.linspace(0.01, 10, 100)\n",
    "C_bs = [C_BS(s, 0, 100, 1, 100) for s in sig]"
   ]
  },
  {
   "cell_type": "code",
   "execution_count": 8,
   "metadata": {},
   "outputs": [
    {
     "data": {
      "text/plain": [
       "Text(0, 0.5, 'Black-Scholes Price $C^{BS}$')"
      ]
     },
     "execution_count": 8,
     "metadata": {},
     "output_type": "execute_result"
    },
    {
     "data": {
      "image/png": "[encoded data removed]",
      "text/plain": [
       "<Figure size 432x288 with 1 Axes>"
      ]
     },
     "metadata": {
      "needs_background": "light"
     },
     "output_type": "display_data"
    }
   ],
   "source": [
    "plt.plot(sig, C_bs)\n",
    "plt.xlabel(\"implied volatility $\\sigma$\")\n",
    "plt.ylabel(\"Black-Scholes Price $C^{BS}$\")"
   ]
  },
  {
   "cell_type": "markdown",
   "metadata": {},
   "source": [
    "# price -> volatility calculation"
   ]
  },
  {
   "cell_type": "code",
   "execution_count": 2,
   "metadata": {},
   "outputs": [],
   "source": [
    "# bi-section method searching implied volatility\n",
    "\n",
    "def imp_vol(C, r, S, T, K, N = 20): \n",
    "    # N: iteration number\n",
    "    # K : strike price\n",
    "    # T : maturity, in \"year\"\n",
    "    # t : present instant\n",
    "    # r : active risk-free rate\n",
    "    # S : stock price\n",
    "    \n",
    "    import numpy as np\n",
    "    \n",
    "    n = N+1\n",
    "    x = np.zeros(n)\n",
    "    y = np.ones(n) # index : 0 -> N\n",
    "#     z = np.zeros(n)\n",
    "    \n",
    "    for i in range(1,n): # index : 0 -> N-1\n",
    "#         z[i] = 1/2 * (x[i-1] + y[i-1])\n",
    "#         sig = z[i] / (1 - z[i])\n",
    "#         if (S > S_BS(sig, r, S, t, T, K)):\n",
    "#             x[i] = z[i]\n",
    "#             y[i] = y[i-1]\n",
    "#         else:\n",
    "#             x[i] = x[i-1]\n",
    "#             y[i] = z[i]\n",
    "\n",
    "        z = 1/2 * (x[i-1] + y[i-1])\n",
    "        sig = z/ (1 - z)\n",
    "        if (C > C_BS(sig, r, S, T, K)):\n",
    "            x[i] = z\n",
    "            y[i] = y[i-1]\n",
    "        else:\n",
    "            x[i] = x[i-1]\n",
    "            y[i] = z\n",
    "            \n",
    "    z = (x[N] + y[N]) / 2\n",
    "    sigma = z / (1-z)\n",
    "    \n",
    "    return sigma \n",
    "        "
   ]
  },
  {
   "cell_type": "code",
   "execution_count": 10,
   "metadata": {},
   "outputs": [
    {
     "data": {
      "text/plain": [
       "0.19999977111820771"
      ]
     },
     "execution_count": 10,
     "metadata": {},
     "output_type": "execute_result"
    }
   ],
   "source": [
    "imp_vol(C=C, r=0, S=100, T=1, K=100)\n"
   ]
  },
  {
   "cell_type": "code",
   "execution_count": 11,
   "metadata": {},
   "outputs": [],
   "source": [
    "def vol_vect(K, S,T,r,kappa,theta,nu,rho,V0,alpha=1,L=1000):\n",
    "    import numpy as np\n",
    "    \n",
    "    v = np.zeros(len(K))\n",
    "    i = 0\n",
    "    for k in K :\n",
    "        i\n",
    "        prix_opt = Call_Price_Heston(S,k,T,r,kappa,theta,nu,rho,V0,alpha=1,L=1000) # always the same model, but with K different\n",
    "        vol = imp_vol(prix_opt, r, S, T, k, N = 20)\n",
    "        v[i] = vol\n",
    "        i += 1\n",
    "    return v"
   ]
  },
  {
   "cell_type": "code",
   "execution_count": 12,
   "metadata": {},
   "outputs": [
    {
     "data": {
      "text/plain": [
       "[<matplotlib.lines.Line2D at 0x13df46fbd08>]"
      ]
     },
     "execution_count": 12,
     "metadata": {},
     "output_type": "execute_result"
    },
    {
     "data": {
      "image/png": "[encoded data removed]",
      "text/plain": [
       "<Figure size 432x288 with 1 Axes>"
      ]
     },
     "metadata": {
      "needs_background": "light"
     },
     "output_type": "display_data"
    }
   ],
   "source": [
    "#  vol depend on K\n",
    "\n",
    "K = np.linspace(10, 200, 100)\n",
    "\n",
    "S = 100\n",
    "T = 1\n",
    "r = 0\n",
    "kappa = 1\n",
    "theta = 0.08\n",
    "nu = 1\n",
    "rho = .5\n",
    "V0 = 0.08\n",
    "\n",
    "vol =  vol_vect(K, S,T,r,kappa,theta,nu,rho,V0,alpha=1,L=1000)\n",
    "\n",
    "plt.plot(K,vol)"
   ]
  },
  {
   "cell_type": "code",
   "execution_count": 13,
   "metadata": {},
   "outputs": [
    {
     "data": {
      "text/plain": [
       "[<matplotlib.lines.Line2D at 0x13df474b9c8>]"
      ]
     },
     "execution_count": 13,
     "metadata": {},
     "output_type": "execute_result"
    },
    {
     "data": {
      "image/png": "[encoded data removed]",
      "text/plain": [
       "<Figure size 432x288 with 1 Axes>"
      ]
     },
     "metadata": {
      "needs_background": "light"
     },
     "output_type": "display_data"
    }
   ],
   "source": [
    "#  vol depend on K\n",
    "\n",
    "K = np.linspace(10, 200, 100)\n",
    "\n",
    "S = 100\n",
    "T = 1\n",
    "r = 0\n",
    "kappa = 1\n",
    "theta = 0.08\n",
    "nu = 1\n",
    "rho = -.5\n",
    "V0 = 0.08\n",
    "\n",
    "vol =  vol_vect(K, S,T,r,kappa,theta,nu,rho,V0,alpha=1,L=1000)\n",
    "\n",
    "plt.plot(K,vol)"
   ]
  },
  {
   "cell_type": "markdown",
   "metadata": {},
   "source": [
    "## Adding volatilily to the generated prices"
   ]
  },
  {
   "cell_type": "code",
   "execution_count": 4,
   "metadata": {},
   "outputs": [],
   "source": [
    "import pandas as pd"
   ]
  },
  {
   "cell_type": "code",
   "execution_count": 5,
   "metadata": {},
   "outputs": [],
   "source": [
    "df = pd.read_csv(\"data/param1.csv\")"
   ]
  },
  {
   "cell_type": "code",
   "execution_count": 9,
   "metadata": {},
   "outputs": [
    {
     "data": {
      "text/html": [
       "<div>\n",
       "<style scoped>\n",
       "    .dataframe tbody tr th:only-of-type {\n",
       "        vertical-align: middle;\n",
       "    }\n",
       "\n",
       "    .dataframe tbody tr th {\n",
       "        vertical-align: top;\n",
       "    }\n",
       "\n",
       "    .dataframe thead th {\n",
       "        text-align: right;\n",
       "    }\n",
       "</style>\n",
       "<table border=\"1\" class=\"dataframe\">\n",
       "  <thead>\n",
       "    <tr style=\"text-align: right;\">\n",
       "      <th></th>\n",
       "      <th>m</th>\n",
       "      <th>T</th>\n",
       "      <th>r</th>\n",
       "      <th>rho</th>\n",
       "      <th>kappa</th>\n",
       "      <th>gamma</th>\n",
       "      <th>nu</th>\n",
       "      <th>nu0</th>\n",
       "      <th>K</th>\n",
       "      <th>S</th>\n",
       "      <th>price</th>\n",
       "    </tr>\n",
       "  </thead>\n",
       "  <tbody>\n",
       "    <tr>\n",
       "      <th>0</th>\n",
       "      <td>1.257914</td>\n",
       "      <td>1.260829</td>\n",
       "      <td>0.046215</td>\n",
       "      <td>-0.307509</td>\n",
       "      <td>0.349958</td>\n",
       "      <td>0.469729</td>\n",
       "      <td>0.183863</td>\n",
       "      <td>0.079676</td>\n",
       "      <td>79.496682</td>\n",
       "      <td>100</td>\n",
       "      <td>28.830581</td>\n",
       "    </tr>\n",
       "    <tr>\n",
       "      <th>1</th>\n",
       "      <td>0.834284</td>\n",
       "      <td>2.351793</td>\n",
       "      <td>0.034071</td>\n",
       "      <td>-0.562245</td>\n",
       "      <td>0.151497</td>\n",
       "      <td>0.702222</td>\n",
       "      <td>0.393769</td>\n",
       "      <td>0.081721</td>\n",
       "      <td>119.863229</td>\n",
       "      <td>100</td>\n",
       "      <td>11.736001</td>\n",
       "    </tr>\n",
       "    <tr>\n",
       "      <th>2</th>\n",
       "      <td>1.170108</td>\n",
       "      <td>1.718260</td>\n",
       "      <td>0.019274</td>\n",
       "      <td>-0.600835</td>\n",
       "      <td>1.561061</td>\n",
       "      <td>0.438521</td>\n",
       "      <td>0.086567</td>\n",
       "      <td>0.192130</td>\n",
       "      <td>85.462163</td>\n",
       "      <td>100</td>\n",
       "      <td>26.591338</td>\n",
       "    </tr>\n",
       "    <tr>\n",
       "      <th>3</th>\n",
       "      <td>0.720118</td>\n",
       "      <td>2.593797</td>\n",
       "      <td>0.018329</td>\n",
       "      <td>-0.553416</td>\n",
       "      <td>0.278247</td>\n",
       "      <td>0.465255</td>\n",
       "      <td>0.109990</td>\n",
       "      <td>0.317225</td>\n",
       "      <td>138.866101</td>\n",
       "      <td>100</td>\n",
       "      <td>16.740601</td>\n",
       "    </tr>\n",
       "    <tr>\n",
       "      <th>4</th>\n",
       "      <td>0.909831</td>\n",
       "      <td>0.260397</td>\n",
       "      <td>0.030840</td>\n",
       "      <td>-0.127374</td>\n",
       "      <td>2.050839</td>\n",
       "      <td>0.365112</td>\n",
       "      <td>0.171817</td>\n",
       "      <td>0.244485</td>\n",
       "      <td>109.910492</td>\n",
       "      <td>100</td>\n",
       "      <td>6.163456</td>\n",
       "    </tr>\n",
       "  </tbody>\n",
       "</table>\n",
       "</div>"
      ],
      "text/plain": [
       "          m         T         r       rho     kappa     gamma        nu  \\\n",
       "0  1.257914  1.260829  0.046215 -0.307509  0.349958  0.469729  0.183863   \n",
       "1  0.834284  2.351793  0.034071 -0.562245  0.151497  0.702222  0.393769   \n",
       "2  1.170108  1.718260  0.019274 -0.600835  1.561061  0.438521  0.086567   \n",
       "3  0.720118  2.593797  0.018329 -0.553416  0.278247  0.465255  0.109990   \n",
       "4  0.909831  0.260397  0.030840 -0.127374  2.050839  0.365112  0.171817   \n",
       "\n",
       "        nu0           K    S      price  \n",
       "0  0.079676   79.496682  100  28.830581  \n",
       "1  0.081721  119.863229  100  11.736001  \n",
       "2  0.192130   85.462163  100  26.591338  \n",
       "3  0.317225  138.866101  100  16.740601  \n",
       "4  0.244485  109.910492  100   6.163456  "
      ]
     },
     "execution_count": 9,
     "metadata": {},
     "output_type": "execute_result"
    }
   ],
   "source": [
    "df.head()"
   ]
  },
  {
   "cell_type": "code",
   "execution_count": 7,
   "metadata": {},
   "outputs": [
    {
     "ename": "ValueError",
     "evalue": "The truth value of a Series is ambiguous. Use a.empty, a.bool(), a.item(), a.any() or a.all().",
     "output_type": "error",
     "traceback": [
      "\u001b[1;31m---------------------------------------------------------------------------\u001b[0m",
      "\u001b[1;31mValueError\u001b[0m                                Traceback (most recent call last)",
      "\u001b[1;32m<ipython-input-7-6a617c580410>\u001b[0m in \u001b[0;36m<module>\u001b[1;34m\u001b[0m\n\u001b[1;32m----> 1\u001b[1;33m \u001b[0mimp_vol\u001b[0m\u001b[1;33m(\u001b[0m\u001b[0mC\u001b[0m \u001b[1;33m=\u001b[0m \u001b[0mdf\u001b[0m\u001b[1;33m[\u001b[0m\u001b[1;34m'price'\u001b[0m\u001b[1;33m]\u001b[0m\u001b[1;33m,\u001b[0m \u001b[0mr\u001b[0m \u001b[1;33m=\u001b[0m  \u001b[0mdf\u001b[0m\u001b[1;33m[\u001b[0m\u001b[1;34m'r'\u001b[0m\u001b[1;33m]\u001b[0m\u001b[1;33m,\u001b[0m \u001b[0mS\u001b[0m \u001b[1;33m=\u001b[0m \u001b[0mdf\u001b[0m\u001b[1;33m[\u001b[0m\u001b[1;34m'S'\u001b[0m\u001b[1;33m]\u001b[0m\u001b[1;33m,\u001b[0m \u001b[0mT\u001b[0m \u001b[1;33m=\u001b[0m  \u001b[0mdf\u001b[0m\u001b[1;33m[\u001b[0m\u001b[1;34m'T'\u001b[0m\u001b[1;33m]\u001b[0m\u001b[1;33m,\u001b[0m \u001b[0mK\u001b[0m \u001b[1;33m=\u001b[0m \u001b[0mdf\u001b[0m\u001b[1;33m[\u001b[0m\u001b[1;34m'K'\u001b[0m\u001b[1;33m]\u001b[0m\u001b[1;33m,\u001b[0m \u001b[0mN\u001b[0m \u001b[1;33m=\u001b[0m \u001b[1;36m20\u001b[0m\u001b[1;33m)\u001b[0m\u001b[1;33m\u001b[0m\u001b[1;33m\u001b[0m\u001b[0m\n\u001b[0m",
      "\u001b[1;32m<ipython-input-2-a5c0e7949d2a>\u001b[0m in \u001b[0;36mimp_vol\u001b[1;34m(C, r, S, T, K, N)\u001b[0m\n\u001b[0;32m     28\u001b[0m         \u001b[0mz\u001b[0m \u001b[1;33m=\u001b[0m \u001b[1;36m1\u001b[0m\u001b[1;33m/\u001b[0m\u001b[1;36m2\u001b[0m \u001b[1;33m*\u001b[0m \u001b[1;33m(\u001b[0m\u001b[0mx\u001b[0m\u001b[1;33m[\u001b[0m\u001b[0mi\u001b[0m\u001b[1;33m-\u001b[0m\u001b[1;36m1\u001b[0m\u001b[1;33m]\u001b[0m \u001b[1;33m+\u001b[0m \u001b[0my\u001b[0m\u001b[1;33m[\u001b[0m\u001b[0mi\u001b[0m\u001b[1;33m-\u001b[0m\u001b[1;36m1\u001b[0m\u001b[1;33m]\u001b[0m\u001b[1;33m)\u001b[0m\u001b[1;33m\u001b[0m\u001b[1;33m\u001b[0m\u001b[0m\n\u001b[0;32m     29\u001b[0m         \u001b[0msig\u001b[0m \u001b[1;33m=\u001b[0m \u001b[0mz\u001b[0m\u001b[1;33m/\u001b[0m \u001b[1;33m(\u001b[0m\u001b[1;36m1\u001b[0m \u001b[1;33m-\u001b[0m \u001b[0mz\u001b[0m\u001b[1;33m)\u001b[0m\u001b[1;33m\u001b[0m\u001b[1;33m\u001b[0m\u001b[0m\n\u001b[1;32m---> 30\u001b[1;33m         \u001b[1;32mif\u001b[0m \u001b[1;33m(\u001b[0m\u001b[0mC\u001b[0m \u001b[1;33m>\u001b[0m \u001b[0mC_BS\u001b[0m\u001b[1;33m(\u001b[0m\u001b[0msig\u001b[0m\u001b[1;33m,\u001b[0m \u001b[0mr\u001b[0m\u001b[1;33m,\u001b[0m \u001b[0mS\u001b[0m\u001b[1;33m,\u001b[0m \u001b[0mT\u001b[0m\u001b[1;33m,\u001b[0m \u001b[0mK\u001b[0m\u001b[1;33m)\u001b[0m\u001b[1;33m)\u001b[0m\u001b[1;33m:\u001b[0m\u001b[1;33m\u001b[0m\u001b[1;33m\u001b[0m\u001b[0m\n\u001b[0m\u001b[0;32m     31\u001b[0m             \u001b[0mx\u001b[0m\u001b[1;33m[\u001b[0m\u001b[0mi\u001b[0m\u001b[1;33m]\u001b[0m \u001b[1;33m=\u001b[0m \u001b[0mz\u001b[0m\u001b[1;33m\u001b[0m\u001b[1;33m\u001b[0m\u001b[0m\n\u001b[0;32m     32\u001b[0m             \u001b[0my\u001b[0m\u001b[1;33m[\u001b[0m\u001b[0mi\u001b[0m\u001b[1;33m]\u001b[0m \u001b[1;33m=\u001b[0m \u001b[0my\u001b[0m\u001b[1;33m[\u001b[0m\u001b[0mi\u001b[0m\u001b[1;33m-\u001b[0m\u001b[1;36m1\u001b[0m\u001b[1;33m]\u001b[0m\u001b[1;33m\u001b[0m\u001b[1;33m\u001b[0m\u001b[0m\n",
      "\u001b[1;32m~\\Anaconda3\\lib\\site-packages\\pandas\\core\\generic.py\u001b[0m in \u001b[0;36m__nonzero__\u001b[1;34m(self)\u001b[0m\n\u001b[0;32m   1325\u001b[0m     \u001b[1;32mdef\u001b[0m \u001b[0m__nonzero__\u001b[0m\u001b[1;33m(\u001b[0m\u001b[0mself\u001b[0m\u001b[1;33m)\u001b[0m\u001b[1;33m:\u001b[0m\u001b[1;33m\u001b[0m\u001b[1;33m\u001b[0m\u001b[0m\n\u001b[0;32m   1326\u001b[0m         raise ValueError(\n\u001b[1;32m-> 1327\u001b[1;33m             \u001b[1;34mf\"The truth value of a {type(self).__name__} is ambiguous. \"\u001b[0m\u001b[1;33m\u001b[0m\u001b[1;33m\u001b[0m\u001b[0m\n\u001b[0m\u001b[0;32m   1328\u001b[0m             \u001b[1;34m\"Use a.empty, a.bool(), a.item(), a.any() or a.all().\"\u001b[0m\u001b[1;33m\u001b[0m\u001b[1;33m\u001b[0m\u001b[0m\n\u001b[0;32m   1329\u001b[0m         )\n",
      "\u001b[1;31mValueError\u001b[0m: The truth value of a Series is ambiguous. Use a.empty, a.bool(), a.item(), a.any() or a.all()."
     ]
    }
   ],
   "source": [
    "imp_vol(C = df['price'], r =  df['r'], S = df['S'], T =  df['T'], K = df['K'], N = 20)"
   ]
  },
  {
   "cell_type": "code",
   "execution_count": 14,
   "metadata": {},
   "outputs": [],
   "source": [
    "df['impl_vol'] = df.apply(lambda row : imp_vol(C = row['price'], r =  row['r'], \n",
    "                                               S = row['S'], T =  row['T'], K = row['K'], N = 20), axis = 1)"
   ]
  },
  {
   "cell_type": "code",
   "execution_count": 16,
   "metadata": {},
   "outputs": [],
   "source": [
    "df.to_csv(\"data/param1.csv\", index = False)"
   ]
  }
 ],
 "metadata": {
  "kernelspec": {
   "display_name": "Python 3",
   "language": "python",
   "name": "python3"
  },
  "language_info": {
   "codemirror_mode": {
    "name": "ipython",
    "version": 3
   },
   "file_extension": ".py",
   "mimetype": "text/x-python",
   "name": "python",
   "nbconvert_exporter": "python",
   "pygments_lexer": "ipython3",
   "version": "3.7.7"
  },
  "toc": {
   "base_numbering": 1,
   "nav_menu": {},
   "number_sections": true,
   "sideBar": true,
   "skip_h1_title": false,
   "title_cell": "Table of Contents",
   "title_sidebar": "Contents",
   "toc_cell": false,
   "toc_position": {},
   "toc_section_display": true,
   "toc_window_display": false
  }
 },
 "nbformat": 4,
 "nbformat_minor": 2
}
